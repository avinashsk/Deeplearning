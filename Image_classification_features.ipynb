{
 "cells": [
  {
   "cell_type": "code",
   "execution_count": 2,
   "id": "7712cf2a",
   "metadata": {},
   "outputs": [],
   "source": [
    "#import libraries\n",
    "import mahotas\n",
    "import numpy as np\n",
    "import cv2\n",
    "import os\n",
    "from sklearn.model_selection import train_test_split\n",
    "from sklearn.linear_model import LogisticRegression\n",
    "from sklearn.ensemble import RandomForestClassifier\n",
    "from sklearn.metrics import r2_score, mean_squared_error, confusion_matrix, precision_score, recall_score, accuracy_score, f1_score\n",
    "from sklearn.preprocessing import LabelEncoder\n",
    "from sklearn.preprocessing import MinMaxScaler\n",
    "from sklearn.cluster import KMeans\n",
    "from sklearn.svm import SVC\n"
   ]
  },
  {
   "cell_type": "code",
   "execution_count": null,
   "id": "54145d03",
   "metadata": {},
   "outputs": [],
   "source": [
    "# os.environ[\"TF_CPP_MIN_LOG_LEVEL\"] = \"2\"\n",
    "# physical_devices = tf.config.list_physical_devices(\"GPU\")\n",
    "# tf.config.experimental.set_memory_growth(physical_devices[0], True)"
   ]
  },
  {
   "cell_type": "code",
   "execution_count": null,
   "id": "2b419032",
   "metadata": {},
   "outputs": [],
   "source": [
    "# !pip install mahotas"
   ]
  },
  {
   "cell_type": "code",
   "execution_count": null,
   "id": "a25631e4",
   "metadata": {},
   "outputs": [],
   "source": [
    "# https://www.kaggle.com/datasets/alxmamaev/flowers-recognition?resource=download"
   ]
  },
  {
   "cell_type": "code",
   "execution_count": 3,
   "id": "3a45cbfd",
   "metadata": {},
   "outputs": [],
   "source": [
    "# location holding the directories with images \n",
    "data_path = r'C:\\Users\\rajbo\\Downloads\\flowers'\n",
    "# create empty lists to hold the images being read\n"
   ]
  },
  {
   "cell_type": "code",
   "execution_count": 4,
   "id": "4cb9abc9",
   "metadata": {},
   "outputs": [],
   "source": [
    "x_image = []\n",
    "y_label = []\n",
    "\n",
    "labels = os.listdir(data_path)\n",
    "#read images and load into lists for image and labels(directory name)\n",
    "#images sized to fixed 300 x 300 for consistency across images."
   ]
  },
  {
   "cell_type": "code",
   "execution_count": 5,
   "id": "6c30031c",
   "metadata": {},
   "outputs": [
    {
     "data": {
      "text/plain": [
       "['daisy', 'dandelion', 'rose', 'sunflower', 'tulip']"
      ]
     },
     "execution_count": 5,
     "metadata": {},
     "output_type": "execute_result"
    }
   ],
   "source": [
    "labels"
   ]
  },
  {
   "cell_type": "code",
   "execution_count": 6,
   "id": "ba36d1fe",
   "metadata": {},
   "outputs": [
    {
     "name": "stdout",
     "output_type": "stream",
     "text": [
      "(4317, 270000)\n"
     ]
    },
    {
     "data": {
      "text/plain": [
       "(4317,)"
      ]
     },
     "execution_count": 6,
     "metadata": {},
     "output_type": "execute_result"
    }
   ],
   "source": [
    "for dirname in labels:\n",
    "    filepath = os.path.join(data_path, dirname)\n",
    "    for file in os.listdir(filepath):\n",
    "        filename = os.path.join(filepath, file)\n",
    "#         print(filename)\n",
    "        image = cv2.imread(filename)\n",
    "        image = cv2.resize(image, (300,300))\n",
    "        x_image.append(image.flatten())\n",
    "        y_label.append(dirname)\n",
    "        continue\n",
    "    continue\n",
    "    break \n",
    "x_image_n = np.array(x_image)\n",
    "print(x_image_n.shape)\n",
    "# (516, 270000)\n",
    "y_label_n = np.array(y_label)\n",
    "y_label_n.shape\n",
    "# (516,)"
   ]
  },
  {
   "cell_type": "code",
   "execution_count": 7,
   "id": "06d0122d",
   "metadata": {},
   "outputs": [],
   "source": [
    "# split train and test data\n",
    "x_train, x_test, y_train, y_test = train_test_split(x_image_n, y_label_n, test_size=0.2, random_state=0)"
   ]
  },
  {
   "cell_type": "markdown",
   "id": "02dfe916",
   "metadata": {},
   "source": [
    "#################################\n",
    "# (1) USING RAW PIXEL APPROACH ---DONT RUN\n",
    "##################################"
   ]
  },
  {
   "cell_type": "code",
   "execution_count": null,
   "id": "b3fc6843",
   "metadata": {},
   "outputs": [],
   "source": [
    "#do not run "
   ]
  },
  {
   "cell_type": "code",
   "execution_count": null,
   "id": "3dbfec96",
   "metadata": {},
   "outputs": [],
   "source": [
    "\n",
    "#train model with randomforestclassifer\n",
    "# clf_rfc = RandomForestClassifier(random_state=10).fit(x_train, y_train)\n"
   ]
  },
  {
   "cell_type": "code",
   "execution_count": null,
   "id": "ad2a9ac1",
   "metadata": {},
   "outputs": [],
   "source": [
    "# evaluate the model with test data\n",
    "y_pred_rfc = clf_rfc.predict(x_test)\n",
    "print(precision_score(y_test, y_pred_rfc, average='weighted'))\n",
    "# 0.5047158190373734\n",
    "print(accuracy_score(y_test, y_pred_rfc))  \n",
    "# 0.47115384615384615"
   ]
  },
  {
   "cell_type": "markdown",
   "id": "7993a0d2",
   "metadata": {},
   "source": [
    "- #######################################################\n",
    "## USING GLOBAL FEATURES for Image Classification\n",
    "- ########################################################"
   ]
  },
  {
   "cell_type": "code",
   "execution_count": 21,
   "id": "f1387f9d",
   "metadata": {},
   "outputs": [],
   "source": [
    "x_image = []\n",
    "y_label = []\n",
    "\n",
    "for dirname in labels:\n",
    "    filepath = os.path.join(data_path, dirname)\n",
    "    for file in os.listdir(filepath):\n",
    "        filename = os.path.join(filepath, file)\n",
    "#         print(filename)\n",
    "        image = cv2.imread(filename)\n",
    "        image_resized = cv2.resize(image, (300,300))\n",
    "        image_gray = cv2.cvtColor(image_resized, cv2.COLOR_BGR2GRAY)\n",
    "# HUMoments for shape\n",
    "        image_hu = cv2.HuMoments(cv2.moments(image_gray)).flatten()\n",
    "# Haralick for texture \n",
    "#         image_har = mahotas.features.haralick(image_gray).mean(axis=0)\n",
    "         # convert the image to HSV color-space\n",
    "        image_hsv = cv2.cvtColor(image, cv2.COLOR_BGR2HSV)\n",
    "# color histogram\n",
    "        image_hist  = cv2.calcHist([image_hsv], [0, 1, 2], None, [8, 8, 8], [0, 256, 0, 256, 0, 256])\n",
    "        cv2.normalize(image_hist, image_hist)\n",
    "        image_hist_flat = image_hist.flatten()\n",
    "# combine the features extracted\n",
    "#         f_vector_concat = np.hstack([image_hist_flat, image_har, image_hu])\n",
    "        f_vector_concat = np.hstack([image_hist_flat, image_hu])\n",
    "#         print(f_vector_concat.shape)\n",
    "        x_image.append(f_vector_concat)\n",
    "        y_label.append(dirname)\n",
    "        continue\n",
    "    continue\n",
    "    break"
   ]
  },
  {
   "cell_type": "code",
   "execution_count": 22,
   "id": "65bcf228",
   "metadata": {},
   "outputs": [
    {
     "data": {
      "text/plain": [
       "(4317, 519)"
      ]
     },
     "execution_count": 22,
     "metadata": {},
     "output_type": "execute_result"
    }
   ],
   "source": [
    "np.array(x_image).shape"
   ]
  },
  {
   "cell_type": "code",
   "execution_count": 23,
   "id": "e67c2f6e",
   "metadata": {},
   "outputs": [],
   "source": [
    "# convert lists to numpy array\n",
    "x_image_n = np.array(x_image)\n",
    "y_label_n = np.array(y_label)\n",
    "\n",
    "# feature scaling between 0-1 \n",
    "scaler = MinMaxScaler(feature_range=(0, 1))\n",
    "x_image_scaled = scaler.fit_transform(x_image_n)\n",
    "\n",
    "#split data set\n",
    "x_train, x_test, y_train, y_test = train_test_split(x_image_n, y_label_n, test_size=0.2, random_state=0)\n",
    "#train the model\n"
   ]
  },
  {
   "cell_type": "code",
   "execution_count": 27,
   "id": "ec62842c",
   "metadata": {},
   "outputs": [],
   "source": [
    "clf_rfc = RandomForestClassifier().fit(x_train, y_train)\n",
    "# evaluate the model\n",
    "y_pred_rfc = clf_rfc.predict(x_test)"
   ]
  },
  {
   "cell_type": "markdown",
   "id": "564ddf56",
   "metadata": {},
   "source": [
    "### Traimning Accuracy"
   ]
  },
  {
   "cell_type": "code",
   "execution_count": 39,
   "id": "b88c2257",
   "metadata": {},
   "outputs": [
    {
     "name": "stdout",
     "output_type": "stream",
     "text": [
      "0.9991311902693311\n"
     ]
    }
   ],
   "source": [
    "y_pred_train = clf_rfc.predict(x_train)\n",
    "print(accuracy_score(y_train, y_pred_train))"
   ]
  },
  {
   "cell_type": "markdown",
   "id": "a6f0ac69",
   "metadata": {},
   "source": [
    "###  Test Accuracy"
   ]
  },
  {
   "cell_type": "code",
   "execution_count": 28,
   "id": "accbf1ea",
   "metadata": {},
   "outputs": [
    {
     "name": "stdout",
     "output_type": "stream",
     "text": [
      "0.6469907407407407\n"
     ]
    }
   ],
   "source": [
    "print(accuracy_score(y_test, y_pred_rfc))"
   ]
  },
  {
   "cell_type": "code",
   "execution_count": 29,
   "id": "686f6379",
   "metadata": {},
   "outputs": [
    {
     "name": "stdout",
     "output_type": "stream",
     "text": [
      "0.6493561979784127\n"
     ]
    }
   ],
   "source": [
    "print(precision_score(y_test, y_pred_rfc, average='weighted', labels=np.unique(y_pred_rfc)))\n",
    "# 0.5858423061196674\n"
   ]
  },
  {
   "cell_type": "code",
   "execution_count": 30,
   "id": "fbcbd6dc",
   "metadata": {},
   "outputs": [
    {
     "name": "stdout",
     "output_type": "stream",
     "text": [
      "[[ 95  33  10  13  12]\n",
      " [  9 152   5  25   6]\n",
      " [  6  19  66   3  45]\n",
      " [ 15  16   8 103   5]\n",
      " [ 11  27  20  17 143]]\n"
     ]
    }
   ],
   "source": [
    "print(confusion_matrix(y_test, y_pred_rfc))\n"
   ]
  },
  {
   "cell_type": "code",
   "execution_count": 31,
   "id": "88981962",
   "metadata": {},
   "outputs": [
    {
     "name": "stdout",
     "output_type": "stream",
     "text": [
      "0.6436306299998447\n"
     ]
    }
   ],
   "source": [
    "\n",
    "print(f1_score(y_test, y_pred_rfc, average='weighted', labels=np.unique(y_pred_rfc)))\n",
    "# 0.5648969666761506"
   ]
  },
  {
   "cell_type": "code",
   "execution_count": 32,
   "id": "37bc97af",
   "metadata": {},
   "outputs": [],
   "source": [
    "# https://www.linkedin.com/pulse/image-classification-opencv-scikit-learn-raj-ramanujam"
   ]
  },
  {
   "cell_type": "code",
   "execution_count": 36,
   "id": "292b6f61",
   "metadata": {},
   "outputs": [
    {
     "data": {
      "text/plain": [
       "array(['tulip', 'dandelion', 'dandelion', 'daisy'], dtype='<U9')"
      ]
     },
     "execution_count": 36,
     "metadata": {},
     "output_type": "execute_result"
    }
   ],
   "source": [
    "clf_rfc.predict(x_test[0:4])"
   ]
  },
  {
   "cell_type": "code",
   "execution_count": 37,
   "id": "ceb2669a",
   "metadata": {},
   "outputs": [
    {
     "data": {
      "text/plain": [
       "array(['sunflower', 'dandelion', 'dandelion', 'daisy'], dtype='<U9')"
      ]
     },
     "execution_count": 37,
     "metadata": {},
     "output_type": "execute_result"
    }
   ],
   "source": [
    "y_test[0:4]"
   ]
  },
  {
   "cell_type": "code",
   "execution_count": null,
   "id": "7408c777",
   "metadata": {},
   "outputs": [],
   "source": []
  }
 ],
 "metadata": {
  "kernelspec": {
   "display_name": "Python 3",
   "language": "python",
   "name": "python3"
  },
  "language_info": {
   "codemirror_mode": {
    "name": "ipython",
    "version": 3
   },
   "file_extension": ".py",
   "mimetype": "text/x-python",
   "name": "python",
   "nbconvert_exporter": "python",
   "pygments_lexer": "ipython3",
   "version": "3.8.8"
  }
 },
 "nbformat": 4,
 "nbformat_minor": 5
}
